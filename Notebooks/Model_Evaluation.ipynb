{
 "cells": [
  {
   "cell_type": "code",
   "execution_count": null,
   "metadata": {},
   "outputs": [],
   "source": [
    "import torch\n",
    "import os\n",
    "import sys\n",
    "import numpy as np\n",
    "from torch.utils.data import DataLoader\n",
    "import matplotlib.pyplot as plt\n",
    "\n",
    "import warnings\n",
    "warnings.filterwarnings(\"ignore\")"
   ]
  },
  {
   "cell_type": "code",
   "execution_count": null,
   "metadata": {},
   "outputs": [],
   "source": [
    "sys.path.append(r\"E:\\Projects\\Deep_Learning\\Car_Segmentation\\Utils\")\n",
    "\n",
    "from unet_model import UNET\n",
    "from segmentation_utils import SegmentationDataset, load_checkpoint, view_model"
   ]
  },
  {
   "cell_type": "code",
   "execution_count": null,
   "metadata": {},
   "outputs": [],
   "source": [
    "DEVICE = \"cuda\" if torch.cuda.is_available() else \"cpu\""
   ]
  },
  {
   "cell_type": "code",
   "execution_count": null,
   "metadata": {},
   "outputs": [],
   "source": [
    "model = UNET(in_channels=3, out_channels=5).to(DEVICE)"
   ]
  },
  {
   "cell_type": "code",
   "execution_count": null,
   "metadata": {},
   "outputs": [],
   "source": [
    "if os.path.exists(\"../Model Checkpoints/car_segmentation_diceceloss_checkpoint.pth.tar\"):\n",
    "        load_checkpoint(torch.load(\"../Model Checkpoints/car_segmentation_diceceloss_checkpoint.pth.tar\"), model)\n",
    "        print(\"=> Checkpoint Loaded\")"
   ]
  },
  {
   "cell_type": "code",
   "execution_count": null,
   "metadata": {},
   "outputs": [],
   "source": [
    "ds = SegmentationDataset(dirPath=\"../Data/car_dataset\", imageDir='images/', masksDir='masks/', img_size=512)\n",
    "car_dataloader = DataLoader(ds, 2, shuffle=True, num_workers=0, pin_memory=False)"
   ]
  },
  {
   "cell_type": "code",
   "execution_count": null,
   "metadata": {},
   "outputs": [],
   "source": [
    "def dice_coef(groundtruth_mask, pred_mask):\n",
    "        print(\"groundtruth_mask.shape =\", groundtruth_mask.shape, \"pred_mask.shape = \", pred_mask.shape)\n",
    "        if groundtruth_mask.shape != pred_mask.shape:\n",
    "                raise ValueError(\"Shape mismatch: groundtruth_mask and pred_mask must have to be of the same shape.\")\n",
    "        intersect = np.sum(pred_mask*groundtruth_mask)\n",
    "        total_sum = np.sum(pred_mask) + np.sum(groundtruth_mask)\n",
    "        dice = np.mean(2*intersect/total_sum)\n",
    "        return round(dice, 3) #round up to 3 decimal places"
   ]
  },
  {
   "cell_type": "code",
   "execution_count": null,
   "metadata": {},
   "outputs": [],
   "source": [
    "for i in car_dataloader:\n",
    "    img , gt_mask = i\n",
    "    print(\"gt = \",gt_mask.shape)\n",
    "    \n",
    "    img = img.to(DEVICE)\n",
    "    print(\"img = \", img.shape)\n",
    "    print(\"img new = \", img[0].shape, img[0].permute(1,2,0).shape)\n",
    "    with torch.no_grad():\n",
    "        out = model(img)\n",
    "    \n",
    "    raw = out\n",
    "    print(\"raw = \",out.shape)\n",
    "    \n",
    "    probs = torch.nn.functional.softmax(out,dim=1)\n",
    "    raw = torch.nn.functional.softmax(raw,dim=1)\n",
    "    \n",
    "    out = torch.argmax(probs, dim=1,keepdim=True)\n",
    "    \n",
    "    print(\"out = \", out.shape)\n",
    "    \n",
    "    mask = out.detach().cpu()\n",
    "    \n",
    "    print(\"mask.shape  =\", mask.shape)\n",
    "    print(\"gt = \", gt_mask.shape)\n",
    "    \n",
    "    plt.subplot(1,3,1)\n",
    "    plt.imshow(img[0].permute(1,2,0).cpu())\n",
    "    plt.title('Image')\n",
    "    plt.axis(False)\n",
    "    plt.subplot(1,3,2)\n",
    "    plt.title('PREDS')\n",
    "    # plt.imshow(raw[0][2].cpu(), cmap='copper')\n",
    "    plt.imshow(mask[0].permute(1,2,0).cpu(), cmap='copper')\n",
    "    plt.axis(False)\n",
    "    plt.subplot(1,3,3)\n",
    "    plt.title('Mask')\n",
    "    plt.axis(False)\n",
    "    plt.imshow(gt_mask[0][2], cmap='gray')\n",
    "    plt.show()\n",
    "    break"
   ]
  },
  {
   "cell_type": "code",
   "execution_count": null,
   "metadata": {},
   "outputs": [],
   "source": [
    "model = view_model(\"E:/Projects/Deep_Learning/Car_Segmentation//ModelCheckpoints/Car_Segmentation_Unet_xception_CrossEntropyLoss_1/\")"
   ]
  },
  {
   "cell_type": "code",
   "execution_count": null,
   "metadata": {},
   "outputs": [],
   "source": []
  }
 ],
 "metadata": {
  "kernelspec": {
   "display_name": "Python 3",
   "language": "python",
   "name": "python3"
  },
  "language_info": {
   "codemirror_mode": {
    "name": "ipython",
    "version": 3
   },
   "file_extension": ".py",
   "mimetype": "text/x-python",
   "name": "python",
   "nbconvert_exporter": "python",
   "pygments_lexer": "ipython3",
   "version": "3.12.3"
  }
 },
 "nbformat": 4,
 "nbformat_minor": 2
}

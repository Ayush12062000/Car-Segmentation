{
 "cells": [
  {
   "cell_type": "code",
   "execution_count": null,
   "metadata": {},
   "outputs": [],
   "source": [
    "import os\n",
    "import torch\n",
    "import numpy as np\n",
    "import kornia\n",
    "from kornia.augmentation import *\n",
    "import cv2\n",
    "import multiprocessing\n",
    "from torch.utils.data import Dataset, DataLoader\n",
    "import matplotlib.pyplot as plt\n",
    "\n",
    "from tqdm import tqdm\n",
    "import copy\n",
    "from typing import Any, Dict, List, Optional, Union\n"
   ]
  },
  {
   "cell_type": "code",
   "execution_count": null,
   "metadata": {},
   "outputs": [],
   "source": [
    "device = torch.device(\"cuda\" if torch.cuda.is_available() else \"cpu\")\n",
    "torch.cuda.is_available()"
   ]
  },
  {
   "cell_type": "code",
   "execution_count": null,
   "metadata": {},
   "outputs": [],
   "source": [
    "dataset_path = \"../Data/car_dataset\""
   ]
  },
  {
   "cell_type": "code",
   "execution_count": null,
   "metadata": {},
   "outputs": [],
   "source": [
    "# for dir_name, _ , filenames in os.walk(dataset_path):\n",
    "#     for filename in filenames:\n",
    "#         print(os.path.join(dir_name, filename))"
   ]
  },
  {
   "cell_type": "code",
   "execution_count": null,
   "metadata": {},
   "outputs": [],
   "source": [
    "# len(sorted(os.listdir(dataset_path + \"/images\")))"
   ]
  },
  {
   "cell_type": "markdown",
   "metadata": {},
   "source": [
    "#### Pre-Processing Images"
   ]
  },
  {
   "cell_type": "code",
   "execution_count": null,
   "metadata": {},
   "outputs": [],
   "source": [
    "class PreProcess(torch.nn.Module):\n",
    "    '''\n",
    "    Class to convert numpy array into torch tensor\n",
    "    '''\n",
    "    \n",
    "    def __init__(self):\n",
    "        super().__init__()\n",
    "    \n",
    "    @torch.no_grad()  #disable gradients for efficiency\n",
    "    def forward(self, x: np.array) -> torch.tensor:\n",
    "        temp: np.ndarray = np.asarray(x) # HxWxC\n",
    "        out: torch.tensor = kornia.image_to_tensor(temp, keepdim=True)  # CxHxW\n",
    "        \n",
    "        return out.float()"
   ]
  },
  {
   "cell_type": "markdown",
   "metadata": {},
   "source": [
    "#### Dataset Class"
   ]
  },
  {
   "cell_type": "code",
   "execution_count": null,
   "metadata": {},
   "outputs": [],
   "source": [
    "# Dataset Class\n",
    "class SegmentationDataset(Dataset):\n",
    "    \n",
    "    def __init__(self, dirPath= r'../data', imageDir='images', masksDir='masks', img_size=512):\n",
    "        self.imgDirPath = os.path.join(dirPath, imageDir)\n",
    "        self.maskDirPath = os.path.join(dirPath, masksDir)\n",
    "        self.img_size = img_size\n",
    "        self.nameImgFile = sorted(os.listdir(self.imgDirPath))\n",
    "        self.nameMaskFile = sorted(os.listdir(self.maskDirPath))\n",
    "        self.preprocess = PreProcess()\n",
    "    \n",
    "    def __len__(self):\n",
    "        return len(self.nameImgFile)\n",
    "    \n",
    "    def __getitem__(self, index):\n",
    "        imgPath = os.path.join(self.imgDirPath, self.nameImgFile[index])\n",
    "        maskPath = os.path.join(self.maskDirPath, self.nameMaskFile[index])\n",
    "        \n",
    "        img = cv2.imread(imgPath, cv2.IMREAD_COLOR)\n",
    "        resized_img = cv2.resize(img, (self.img_size, self.img_size))\n",
    "        \n",
    "        # Min-max scaling\n",
    "        imin, imax = resized_img.min(), resized_img.max()\n",
    "        resized_img = (resized_img-imin)/(imax-imin)\n",
    "        \n",
    "        img = self.preprocess(resized_img) \n",
    "        \n",
    "        mask = cv2.imread(maskPath, cv2.IMREAD_UNCHANGED)\n",
    "        resized_mask = cv2.resize(mask, (self.img_size, self.img_size))\n",
    "        \n",
    "        mask = self.preprocess(resized_mask)\n",
    "        \n",
    "        # Create a new tensor of shape (5, 256, 256) filled with zeros\n",
    "        output_mask = torch.zeros((5, self.img_size, self.img_size), dtype=torch.float)\n",
    "\n",
    "        # Populate the output mask tensor using one-hot encoding\n",
    "        for i in range(5):\n",
    "            output_mask[i] = (mask == i).float()\n",
    "        \n",
    "        return img, output_mask\n"
   ]
  },
  {
   "cell_type": "markdown",
   "metadata": {},
   "source": [
    "#### Data Augmentation"
   ]
  },
  {
   "cell_type": "code",
   "execution_count": null,
   "metadata": {},
   "outputs": [],
   "source": [
    "class CustomPadding(AugmentationBase2D):\n",
    "    \"\"\"\n",
    "    Custom augmentation to add padding on all sides of an image.\n",
    "    \"\"\"\n",
    "    def __init__(self, padding: int, p: float = 1.0):\n",
    "        super(CustomPadding, self).__init__(p=p)\n",
    "        self.padding = padding\n",
    "        \n",
    "    def apply_transform(self, img: torch.Tensor, params: Dict[str, torch.Tensor], flags: Dict[str, Any], transform: Optional[torch.Tensor] = None\n",
    "    ) -> torch.Tensor:\n",
    "\n",
    "        # Calculate the size of the padded image\n",
    "        b, c, h, w = img.size()\n",
    "        padded_h, padded_w = h + 2*self.padding, w + 2*self.padding\n",
    "        \n",
    "        # Create a tensor filled with zeros as the new padded image\n",
    "        padded_img = torch.zeros(b, c, padded_h, padded_w)\n",
    "\n",
    "        # Insert the original image in the center of the padded image\n",
    "        padded_img[:, :, self.padding:h+self.padding, self.padding:w+self.padding] = img\n",
    "        \n",
    "        resize_padded_img = torch.nn.functional.interpolate(padded_img, size=(512, 512), mode='bilinear', align_corners=False)\n",
    "        \n",
    "        return resize_padded_img.to(\"cuda\")\n",
    "    \n",
    "    def apply_non_transform(self, img: torch.Tensor, params: Dict[str, torch.Tensor], flags: Dict[str, Any], transform: Optional[torch.Tensor] = None\n",
    "    ) -> torch.Tensor:\n",
    "\n",
    "        return img.to(\"cuda\")\n",
    "        \n",
    "    \n",
    "    def apply_transform_mask(self, mask: torch.Tensor, params: Dict[str, torch.Tensor], flags: Dict[str, Any], transform: Optional[torch.Tensor] = None\n",
    "    ) -> torch.Tensor:\n",
    "        \n",
    "        # Calculate the size of the padded image\n",
    "        b, c, h, w = mask.size()\n",
    "        padded_h, padded_w = h + 2*self.padding, w + 2*self.padding\n",
    "        \n",
    "        # Create a tensor filled with zeros as the new padded image\n",
    "        padded_mask = torch.zeros(b, c, padded_h, padded_w)\n",
    "        \n",
    "        # Insert the original image in the center of the padded image\n",
    "        padded_mask[:, :, self.padding:h+self.padding, self.padding:w+self.padding] = mask\n",
    "        \n",
    "        resize_padded_mask = torch.nn.functional.interpolate(padded_mask, size=(512, 512), mode='bilinear', align_corners=False)\n",
    "        \n",
    "        return resize_padded_mask.to(\"cuda\")\n",
    "    \n",
    "    def apply_non_transform_mask(self, mask: torch.Tensor, params: Dict[str, torch.Tensor], flags: Dict[str, Any], transform: Optional[torch.Tensor] = None\n",
    "    ) -> torch.Tensor:\n",
    "        \n",
    "        return mask.to(\"cuda\")"
   ]
  },
  {
   "cell_type": "code",
   "execution_count": null,
   "metadata": {},
   "outputs": [],
   "source": [
    "class DataAugmentation(torch.nn.Module):\n",
    "    '''\n",
    "    Augmentation from Kornai\n",
    "    - Works with Image and Mask tensor input.\n",
    "    - Returns \"Identity\" if no augmentations are passed.\n",
    "    '''\n",
    "    \n",
    "    def __init__(self, augmentations):\n",
    "        super().__init__()\n",
    "        \n",
    "        self.augmentations = torch.nn.Identity()\n",
    "        \n",
    "        if len(augmentations) > 0:\n",
    "            self.augmentations = self._createAugmentationObject(augmentations)\n",
    "    \n",
    "    def _createAugmentationObject(self,augs):\n",
    "        aug_object_list = []\n",
    "        print(augs)\n",
    "        for aug in augs:\n",
    "            aug_name = aug['name']\n",
    "            aug.pop('name', None)\n",
    "            aug_object_list.append(\n",
    "                globals()[aug_name](**aug)\n",
    "                )\n",
    "            aug['name'] = aug_name\n",
    "        aug_container = kornia.augmentation.container.AugmentationSequential(*aug_object_list, data_keys=['input', 'mask'])\n",
    "        return aug_container\n",
    "    \n",
    "    @torch.no_grad()  # disable gradients for effiency\n",
    "    def forward(self, img, mask):\n",
    "        img, mask = self.augmentations(img, mask)\n",
    "        return img, mask"
   ]
  },
  {
   "cell_type": "code",
   "execution_count": null,
   "metadata": {},
   "outputs": [],
   "source": [
    "NUM_CORES = multiprocessing.cpu_count()\n",
    "IMG_SIZE = 256\n",
    "AUGMENTATIONS = [\n",
    "            {\n",
    "                \"name\":\"RandomAffine\",\n",
    "                \"degrees\":360,\n",
    "                \"p\":0.6\n",
    "            }\n",
    "            # {\n",
    "            #     \"name\":\"RandomCrop\", # Not working OG size should be greater than the crop size\n",
    "            #     \"size\":(256,256),\n",
    "            #     \"p\":1.0\n",
    "            # },\n",
    "            # {\n",
    "            #     \"name\":\"CustomPadding\",\n",
    "            #     \"padding\":100,\n",
    "            #     \"p\":1.0\n",
    "            # }\n",
    "            \n",
    "            ]"
   ]
  },
  {
   "cell_type": "markdown",
   "metadata": {},
   "source": [
    "#### Plot Dataset"
   ]
  },
  {
   "cell_type": "code",
   "execution_count": null,
   "metadata": {},
   "outputs": [],
   "source": [
    "ds = SegmentationDataset(dirPath=dataset_path, imageDir='images', masksDir='masks', img_size=IMG_SIZE)\n",
    "ag = DataAugmentation(augmentations = copy.deepcopy(AUGMENTATIONS))\n",
    "\n",
    "for idx in range(2):\n",
    "        \n",
    "        img, mask = ds[idx]\n",
    "        \n",
    "        img, mask = ag(img,mask.unsqueeze(0))\n",
    "        \n",
    "        img = img.squeeze().cpu()\n",
    "        mask = mask.cpu()\n",
    "        \n",
    "        print(torch.unique(mask))\n",
    "\n",
    "        with torch.no_grad():\n",
    "                fig, axes = plt.subplots(1, 7,figsize=(15,15)) \n",
    "                axes[0].imshow(img[0], cmap = 'gray')\n",
    "                axes[0].axis(\"off\")\n",
    "                axes[0].set_title(\"Original scan\", fontsize = 12)\n",
    "                axes[1].imshow(mask[0][0], cmap=\"copper\")\n",
    "                axes[1].axis(\"off\")\n",
    "                axes[1].set_title(\"Background\", fontsize = 12)\n",
    "                \n",
    "                axes[2].imshow(mask[0][1], cmap=\"copper\")\n",
    "                axes[2].axis(\"off\")\n",
    "                axes[2].set_title(\"Ground Truth\", fontsize = 12)\n",
    "                \n",
    "                axes[3].imshow(mask[0][2], cmap=\"copper\")\n",
    "                axes[3].axis(\"off\")\n",
    "                axes[3].set_title(\"Ground Truth\", fontsize = 12)\n",
    "                \n",
    "                axes[4].imshow(mask[0][3], cmap=\"copper\")\n",
    "                axes[4].axis(\"off\")\n",
    "                axes[4].set_title(\"Ground Truth\", fontsize = 12)\n",
    "                \n",
    "                axes[5].imshow(mask[0][4], cmap=\"copper\")\n",
    "                axes[5].axis(\"off\")\n",
    "                axes[5].set_title(\"Ground Truth\", fontsize = 12)\n",
    "                \n",
    "                axes[6].imshow(img[0], cmap = 'gray')\n",
    "                axes[6].imshow(mask[0][1], alpha = 0.5, cmap = 'copper')\n",
    "                axes[6].imshow(mask[0][2], alpha = 0.5, cmap = 'copper')\n",
    "                axes[6].imshow(mask[0][3], alpha = 0.5, cmap = 'copper')\n",
    "                axes[6].imshow(mask[0][4], alpha = 0.5, cmap = 'copper')\n",
    "                axes[6].axis(\"off\")\n",
    "                axes[6].set_title(\"Overlapped View\", fontsize = 12)\n",
    "\n",
    "                plt.show()\n"
   ]
  },
  {
   "cell_type": "code",
   "execution_count": null,
   "metadata": {},
   "outputs": [],
   "source": []
  }
 ],
 "metadata": {
  "kernelspec": {
   "display_name": "Python 3",
   "language": "python",
   "name": "python3"
  },
  "language_info": {
   "codemirror_mode": {
    "name": "ipython",
    "version": 3
   },
   "file_extension": ".py",
   "mimetype": "text/x-python",
   "name": "python",
   "nbconvert_exporter": "python",
   "pygments_lexer": "ipython3",
   "version": "3.12.3"
  }
 },
 "nbformat": 4,
 "nbformat_minor": 2
}

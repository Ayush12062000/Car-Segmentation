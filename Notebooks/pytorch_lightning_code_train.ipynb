{
 "cells": [
  {
   "cell_type": "code",
   "execution_count": 1,
   "metadata": {},
   "outputs": [],
   "source": [
    "import torch\n",
    "import os, copy, glob\n",
    "import sys\n",
    "import numpy as np\n",
    "from torch.utils.data import DataLoader\n",
    "import matplotlib.pyplot as plt\n",
    "import segmentation_models_pytorch as smp\n",
    "from monai.losses import *\n",
    "import torchmetrics\n",
    "import pytorch_lightning as pl\n",
    "import torch.nn as nn\n",
    "\n",
    "import warnings\n",
    "warnings.filterwarnings(\"ignore\")"
   ]
  },
  {
   "cell_type": "code",
   "execution_count": 2,
   "metadata": {},
   "outputs": [],
   "source": [
    "import mlflow\n",
    "from pytorch_lightning.loggers import MLFlowLogger\n",
    "\n",
    "# Set our tracking server uri for logging\n",
    "mlflow.set_tracking_uri(uri=\"http://127.0.0.1:8005\")"
   ]
  },
  {
   "cell_type": "code",
   "execution_count": 3,
   "metadata": {},
   "outputs": [],
   "source": [
    "sys.path.append(r\"E:\\Projects\\Deep_Learning\\Car_Segmentation\\Utils\")\n",
    "\n",
    "from segmentation_utils import SegmentationDataset, DataAugmentation"
   ]
  },
  {
   "cell_type": "markdown",
   "metadata": {},
   "source": [
    "### Model Parameters"
   ]
  },
  {
   "cell_type": "code",
   "execution_count": 4,
   "metadata": {},
   "outputs": [
    {
     "name": "stdout",
     "output_type": "stream",
     "text": [
      "Car_Segmentation_Unet_xception_CrossEntropyLoss_1\n"
     ]
    }
   ],
   "source": [
    "DATASET_PATH = \"../Data/car_dataset\"\n",
    "BASE_PROJECT_DIR = \"E:/Projects/Deep_Learning/Car_Segmentation/\"\n",
    "DEVICE = \"cuda\" if torch.cuda.is_available() else \"cpu\"\n",
    "IMG_SIZE = 512\n",
    "BATCH_SIZE = 4\n",
    "EPOCHS = 150\n",
    "ENCODER =  \"xception\"\n",
    "MODEL_TYPE = \"Unet\"\n",
    "EXPERIMENT_NAME = \"Car_Segmentation\"\n",
    "# LOSS_NAME = \"DiceCELoss\"\n",
    "# LOSS_FN =  DiceCELoss(include_background = True, softmax= True, lambda_dice=0.1, lambda_ce=0.9)\n",
    "LOSS_NAME = \"CrossEntropyLoss\"\n",
    "LOSS_FN = nn.CrossEntropyLoss()\n",
    "LEARNING_RATE =  0.001\n",
    "MODEL_VERSION = 1\n",
    "RUN_NAME = EXPERIMENT_NAME + \"_\" + MODEL_TYPE + \"_\" + ENCODER + \"_\" + LOSS_NAME + \"_\" + str(MODEL_VERSION)\n",
    "print(RUN_NAME)\n",
    "# OPTIMIZER = {\"name\": \"AdamW\"},\n",
    "# SCHEDULER = {\"name\": \"ReduceLROnPlateau\",\n",
    "#                 \"mode\": \"min\",\n",
    "#                 \"patience\": 5,\n",
    "#                 \"cooldown\": 1,\n",
    "#                 \"verbose\": True}\n",
    "CALLBACKS =  [{\"name\": \"EarlyStopping\",\n",
    "                \"monitor\": \"val_loss\",\n",
    "                \"min_delta\": 0.001,\n",
    "                \"patience\": 15,\n",
    "                \"verbose\": True,\n",
    "                \"mode\": \"min\"}]\n",
    "IN_CHANNELS = 3\n",
    "NUM_CLASSES = 5\n",
    "PRECISION = 32\n",
    "TRAIN_BOOL = True\n",
    "MODEL_WEIGHTS_PATH = \"\"\n",
    "OVERSAMPLE = False\n",
    "NUM_CORES = 0\n",
    "\n",
    "AUGMENTATIONS = [\n",
    "            {\n",
    "                \"name\":\"RandomAffine\",\n",
    "                \"degrees\":360,\n",
    "                \"align_corners\":True,\n",
    "                \"p\":0.6\n",
    "            },\n",
    "            {\n",
    "                \"name\":\"RandomHorizontalFlip\",\n",
    "                \"p\":0.6\n",
    "            },\n",
    "            {\n",
    "                \"name\":\"RandomVerticalFlip\",\n",
    "                \"p\":0.6\n",
    "            },\n",
    "            {\n",
    "                \"name\":\"RandomRotation\",\n",
    "                \"degrees\":360,\n",
    "                \"p\":0.6\n",
    "            }\n",
    "            ]\n",
    "\n"
   ]
  },
  {
   "cell_type": "markdown",
   "metadata": {},
   "source": [
    "### Lightning Module"
   ]
  },
  {
   "cell_type": "code",
   "execution_count": 5,
   "metadata": {},
   "outputs": [],
   "source": [
    "import torchmetrics.functional.classification\n",
    "import torchmetrics.functional.segmentation\n",
    "\n",
    "\n",
    "class SegmentationModule(pl.LightningModule):\n",
    "    def __init__(self, augmentations, in_channels = 1, out_channels = 1, encoder_name = 'resnet34', encoder_weights = 'imagenet', model_type = 'Unet',\n",
    "                    img_size = 512, loss_function = {\"name\":'CELoss', \"ALPHA\":1.0,\"BETA\":1.0}, lr = 0.01):\n",
    "        super().__init__()\n",
    "        # self.scheduler = scheduler\n",
    "        # self.optimizer = optimizer\n",
    "        self.in_channels = in_channels\n",
    "        self.out_channels = out_channels # number of Classes \n",
    "        self.encoder_name = encoder_name\n",
    "        self.encoder_weights = encoder_weights\n",
    "        self.model_type = model_type\n",
    "        self.img_size = img_size\n",
    "        self.lr = lr\n",
    "        \n",
    "        self.augmentations = DataAugmentation(augmentations)\n",
    "        self.loss_function = loss_function\n",
    "        \n",
    "        exec(f\"self.model = smp.{self.model_type}(encoder_name=self.encoder_name, encoder_weights=self.encoder_weights, \"\n",
    "                    f\"in_channels=self.in_channels, classes=self.out_channels)\")\n",
    "        \n",
    "        self.save_hyperparameters()\n",
    "    \n",
    "    def forward(self, x):\n",
    "        return self.model(x)\n",
    "    \n",
    "    def training_step(self, batch):\n",
    "        img, mask = batch\n",
    "        \n",
    "        ## Apply augmentation to training data\n",
    "        img, mask = self.augmentations(img, mask)\n",
    "        \n",
    "        pred_mask = self(img)\n",
    "        \n",
    "        loss = self.loss_function(pred_mask, mask)\n",
    "        \n",
    "        pred_mask = torch.softmax(pred_mask,dim=1).squeeze()\n",
    "        mask = mask.squeeze()\n",
    "        # mask = torch.argmax(mask, dim=1)\n",
    "        \n",
    "        tp, fp, fn, tn = smp.metrics.get_stats(pred_mask, mask.int(), mode='multilabel', threshold=0.5, num_classes=self.out_channels)\n",
    "        iou_score = smp.metrics.iou_score(tp, fp, fn, tn, reduction=\"micro\")\n",
    "        \n",
    "        dice_score = torchmetrics.functional.classification.multiclass_f1_score(preds = pred_mask, target = mask.int(), num_classes = self.out_channels)\n",
    "        \n",
    "        self.log('train_loss', loss, on_step=False, on_epoch=True, prog_bar=False, logger=True)\n",
    "        self.log('train_iou', iou_score, on_step=False, on_epoch=True, prog_bar=False, logger=True)\n",
    "        self.log('train_dice', dice_score, on_step=False, on_epoch=True, prog_bar=False, logger=True)\n",
    "        \n",
    "        return loss\n",
    "\n",
    "    def validation_step(self, batch):\n",
    "        img, mask = batch\n",
    "        \n",
    "        pred_mask = self(img)\n",
    "        \n",
    "        loss = self.loss_function(pred_mask, mask)\n",
    "        \n",
    "        pred_mask = torch.softmax(pred_mask,dim=1).squeeze()\n",
    "        mask = mask.squeeze()\n",
    "        # mask = torch.argmax(mask, dim=1)\n",
    "        \n",
    "        tp, fp, fn, tn = smp.metrics.get_stats(pred_mask, mask.int(), mode='multilabel', threshold=0.5, num_classes=self.out_channels)\n",
    "        iou_score = smp.metrics.iou_score(tp, fp, fn, tn, reduction=\"micro\")\n",
    "        \n",
    "        dice_score = torchmetrics.functional.classification.multiclass_f1_score(preds = pred_mask, target = mask.int(), num_classes = self.out_channels)\n",
    "        \n",
    "        self.log('val_loss', loss, on_step=False, on_epoch=True, prog_bar=False, logger=True)\n",
    "        self.log('val_iou', iou_score, on_step=False, on_epoch=True, prog_bar=False, logger=True)\n",
    "        self.log('val_dice', dice_score, on_step=False, on_epoch=True, prog_bar=False, logger=True)\n",
    "        \n",
    "        return loss\n",
    "    \n",
    "    def configure_optimizers(self):\n",
    "        optimizer = torch.optim.AdamW(self.parameters(), lr=self.lr)\n",
    "        scheduler = {'scheduler': torch.optim.lr_scheduler.ReduceLROnPlateau(optimizer, factor=0.1, mode = \"min\", patience =  3, cooldown = 1, verbose=True),\n",
    "                        'monitor': 'val_loss'}\n",
    "        return [optimizer], [scheduler]\n"
   ]
  },
  {
   "cell_type": "code",
   "execution_count": 6,
   "metadata": {},
   "outputs": [],
   "source": [
    "mlflow_logger = MLFlowLogger(\n",
    "    experiment_name= EXPERIMENT_NAME,\n",
    "    run_name= RUN_NAME,\n",
    "    save_dir='E:/Projects/Deep_Learning/Car_Segmentation/mlruns',\n",
    "    log_model = False,\n",
    ")"
   ]
  },
  {
   "cell_type": "code",
   "execution_count": 7,
   "metadata": {},
   "outputs": [],
   "source": [
    "def main():\n",
    "    print(\"---Training Staring---\")\n",
    "    \n",
    "    # Define datasets\n",
    "    whole_dataset = SegmentationDataset(dirPath=DATASET_PATH, imageDir='images/', masksDir='masks/', img_size=IMG_SIZE)\n",
    "    \n",
    "    train_size = int(0.8 * len(whole_dataset))\n",
    "    val_size = len(whole_dataset) - train_size\n",
    "    train_ds, val_ds = torch.utils.data.random_split(whole_dataset, [train_size, val_size])\n",
    "    \n",
    "    print(f\"Length of Train dataset = {len(train_ds)}\")\n",
    "    print(f\"Length of Val dataset = {len(val_ds)}\")\n",
    "\n",
    "    # Define DataLoaders\n",
    "    train_dataloader = DataLoader(train_ds, BATCH_SIZE, shuffle=True, num_workers=0, pin_memory=False)\n",
    "    val_dataloader = DataLoader(val_ds, BATCH_SIZE, shuffle=False, num_workers=0, pin_memory=False)\n",
    "\n",
    "    print(\"Created Train and Val dataloaders\")\n",
    "    \n",
    "    model = SegmentationModule(augmentations=copy.deepcopy(AUGMENTATIONS), in_channels=IN_CHANNELS, out_channels=NUM_CLASSES, encoder_name=ENCODER, encoder_weights=None, model_type=MODEL_TYPE, img_size=IMG_SIZE, \n",
    "                                loss_function=LOSS_FN, lr=LEARNING_RATE)\n",
    "    \n",
    "    # Check if weights path is valid and load model weights.\n",
    "    if MODEL_WEIGHTS_PATH is not None and os.path.exists(MODEL_WEIGHTS_PATH):\n",
    "        print(\"Loading Model Weights......\")\n",
    "\n",
    "        model_weights = torch.load(MODEL_WEIGHTS_PATH)\n",
    "        model.load_state_dict(model_weights)\n",
    "        print(f\"Loaded model weights from\\n{MODEL_WEIGHTS_PATH}\\n\")\n",
    "    \n",
    "    # Create model directory\n",
    "    os.makedirs(f'{BASE_PROJECT_DIR}/ModelCheckpoints/{RUN_NAME}/', exist_ok=True)\n",
    "    print(f\"Created directory: {BASE_PROJECT_DIR}/ModelCheckpoints/{RUN_NAME}/\")\n",
    "    \n",
    "    callback_list = []\n",
    "    early_stopping = pl.callbacks.EarlyStopping(monitor = 'val_loss', min_delta = 0.001, patience = 5, verbose = True, mode = \"min\")\n",
    "    model_checkpoint = pl.callbacks.ModelCheckpoint(monitor = 'val_loss', dirpath = f'{BASE_PROJECT_DIR}/ModelCheckpoints/{RUN_NAME}/', verbose = True)\n",
    "    \n",
    "    callback_list.append(early_stopping)\n",
    "    callback_list.append(model_checkpoint)\n",
    "    \n",
    "    trainer = pl.Trainer(accelerator='gpu', devices='auto', accumulate_grad_batches= max(1, 16 // BATCH_SIZE),\n",
    "                            benchmark=True, precision=PRECISION, min_epochs=5, max_epochs=EPOCHS,\n",
    "                            logger=mlflow_logger, num_sanity_val_steps=5, callbacks=callback_list)\n",
    "    \n",
    "    # Train model\n",
    "    trainer.fit(model, train_dataloader, val_dataloader)\n",
    "    print(\"\\nTraining finished\")\n",
    "    \n",
    "    # -- Save model --\n",
    "    # Find latest checkpoint\n",
    "    best_chkpt = max(glob.glob(f'{BASE_PROJECT_DIR}/ModelCheckpoints/{RUN_NAME}/*.ckpt'),\n",
    "                    key=os.path.getctime)\n",
    "    print(f\"Found latest checkpoint at:\\n{best_chkpt}\")\n",
    "\n",
    "    # Load latest checkpoint\n",
    "    model = SegmentationModule.load_from_checkpoint(best_chkpt)\n",
    "\n",
    "    # Convert the model and weights to torchscript and Save\n",
    "    model.eval()\n",
    "\n",
    "    torch.save(model.state_dict(), f'{BASE_PROJECT_DIR}/ModelCheckpoints/{RUN_NAME}/{RUN_NAME}_weights.pth')\n",
    "    print(f\"Model Weights saved in {BASE_PROJECT_DIR}/ModelCheckpoints/{RUN_NAME}/\")\n",
    "\n",
    "    try:\n",
    "        model.to_torchscript(\n",
    "            file_path=f'{BASE_PROJECT_DIR}/ModelCheckpoints/{RUN_NAME}/{RUN_NAME}_traceModel.pth',\n",
    "            method='trace', example_inputs=torch.rand(1, IN_CHANNELS, IMG_SIZE, IMG_SIZE))\n",
    "        print(f\"TorchScript Trace Model saved in {BASE_PROJECT_DIR}/ModelCheckpoints/{RUN_NAME}/\")\n",
    "    except:\n",
    "        print(f\"Trace Model could not be created for {RUN_NAME} \")\n"
   ]
  },
  {
   "cell_type": "code",
   "execution_count": 8,
   "metadata": {},
   "outputs": [
    {
     "name": "stdout",
     "output_type": "stream",
     "text": [
      "---Training Staring---\n",
      "Length of Train dataset = 168\n",
      "Length of Val dataset = 43\n",
      "Created Train and Val dataloaders\n",
      "[{'name': 'RandomAffine', 'degrees': 360, 'align_corners': True, 'p': 0.6}, {'name': 'RandomHorizontalFlip', 'p': 0.6}, {'name': 'RandomVerticalFlip', 'p': 0.6}, {'name': 'RandomRotation', 'degrees': 360, 'p': 0.6}]\n",
      "Created directory: E:/Projects/Deep_Learning/Car_Segmentation//ModelCheckpoints/Car_Segmentation_Unet_xception_CrossEntropyLoss_1/\n"
     ]
    },
    {
     "name": "stderr",
     "output_type": "stream",
     "text": [
      "GPU available: True (cuda), used: True\n",
      "TPU available: False, using: 0 TPU cores\n",
      "IPU available: False, using: 0 IPUs\n",
      "HPU available: False, using: 0 HPUs\n",
      "You are using a CUDA device ('NVIDIA GeForce RTX 3060 Laptop GPU') that has Tensor Cores. To properly utilize them, you should set `torch.set_float32_matmul_precision('medium' | 'high')` which will trade-off precision for performance. For more details, read https://pytorch.org/docs/stable/generated/torch.set_float32_matmul_precision.html#torch.set_float32_matmul_precision\n",
      "LOCAL_RANK: 0 - CUDA_VISIBLE_DEVICES: [0]\n",
      "\n",
      "  | Name          | Type             | Params\n",
      "---------------------------------------------------\n",
      "0 | augmentations | DataAugmentation | 0     \n",
      "1 | loss_function | CrossEntropyLoss | 0     \n",
      "2 | model         | Unet             | 28.8 M\n",
      "---------------------------------------------------\n",
      "28.8 M    Trainable params\n",
      "0         Non-trainable params\n",
      "28.8 M    Total params\n",
      "115.080   Total estimated model params size (MB)\n"
     ]
    },
    {
     "data": {
      "application/vnd.jupyter.widget-view+json": {
       "model_id": "d66a23c8373c4fc0b6d506d0f5173b6b",
       "version_major": 2,
       "version_minor": 0
      },
      "text/plain": [
       "Sanity Checking: |          | 0/? [00:00<?, ?it/s]"
      ]
     },
     "metadata": {},
     "output_type": "display_data"
    },
    {
     "data": {
      "application/vnd.jupyter.widget-view+json": {
       "model_id": "c6d1c4e25f094e62a2242492fa797f9e",
       "version_major": 2,
       "version_minor": 0
      },
      "text/plain": [
       "Training: |          | 0/? [00:00<?, ?it/s]"
      ]
     },
     "metadata": {},
     "output_type": "display_data"
    },
    {
     "data": {
      "application/vnd.jupyter.widget-view+json": {
       "model_id": "11d7dd27a6454a238b8192f6461a3bbe",
       "version_major": 2,
       "version_minor": 0
      },
      "text/plain": [
       "Validation: |          | 0/? [00:00<?, ?it/s]"
      ]
     },
     "metadata": {},
     "output_type": "display_data"
    },
    {
     "name": "stderr",
     "output_type": "stream",
     "text": [
      "Metric val_loss improved. New best score: 0.938\n",
      "Epoch 0, global step 11: 'val_loss' reached 0.93760 (best 0.93760), saving model to 'E:\\\\Projects\\\\Deep_Learning\\\\Car_Segmentation\\\\ModelCheckpoints\\\\Car_Segmentation_Unet_xception_CrossEntropyLoss_1\\\\epoch=0-step=11.ckpt' as top 1\n"
     ]
    },
    {
     "data": {
      "application/vnd.jupyter.widget-view+json": {
       "model_id": "fd2a224ace754566900dcf834557b671",
       "version_major": 2,
       "version_minor": 0
      },
      "text/plain": [
       "Validation: |          | 0/? [00:00<?, ?it/s]"
      ]
     },
     "metadata": {},
     "output_type": "display_data"
    },
    {
     "name": "stderr",
     "output_type": "stream",
     "text": [
      "Metric val_loss improved by 0.290 >= min_delta = 0.001. New best score: 0.648\n",
      "Epoch 1, global step 22: 'val_loss' reached 0.64804 (best 0.64804), saving model to 'E:\\\\Projects\\\\Deep_Learning\\\\Car_Segmentation\\\\ModelCheckpoints\\\\Car_Segmentation_Unet_xception_CrossEntropyLoss_1\\\\epoch=1-step=22.ckpt' as top 1\n"
     ]
    },
    {
     "data": {
      "application/vnd.jupyter.widget-view+json": {
       "model_id": "0ac5834d360648e5a67d2b35fcbb69ad",
       "version_major": 2,
       "version_minor": 0
      },
      "text/plain": [
       "Validation: |          | 0/? [00:00<?, ?it/s]"
      ]
     },
     "metadata": {},
     "output_type": "display_data"
    },
    {
     "name": "stderr",
     "output_type": "stream",
     "text": [
      "Metric val_loss improved by 0.083 >= min_delta = 0.001. New best score: 0.565\n",
      "Epoch 2, global step 33: 'val_loss' reached 0.56484 (best 0.56484), saving model to 'E:\\\\Projects\\\\Deep_Learning\\\\Car_Segmentation\\\\ModelCheckpoints\\\\Car_Segmentation_Unet_xception_CrossEntropyLoss_1\\\\epoch=2-step=33.ckpt' as top 1\n"
     ]
    },
    {
     "data": {
      "application/vnd.jupyter.widget-view+json": {
       "model_id": "ea1944f229054e56b9e848a3b438eeca",
       "version_major": 2,
       "version_minor": 0
      },
      "text/plain": [
       "Validation: |          | 0/? [00:00<?, ?it/s]"
      ]
     },
     "metadata": {},
     "output_type": "display_data"
    },
    {
     "name": "stderr",
     "output_type": "stream",
     "text": [
      "Metric val_loss improved by 0.052 >= min_delta = 0.001. New best score: 0.513\n",
      "Epoch 3, global step 44: 'val_loss' reached 0.51323 (best 0.51323), saving model to 'E:\\\\Projects\\\\Deep_Learning\\\\Car_Segmentation\\\\ModelCheckpoints\\\\Car_Segmentation_Unet_xception_CrossEntropyLoss_1\\\\epoch=3-step=44.ckpt' as top 1\n"
     ]
    },
    {
     "data": {
      "application/vnd.jupyter.widget-view+json": {
       "model_id": "221eec5bcf4d451f823602dfadd30125",
       "version_major": 2,
       "version_minor": 0
      },
      "text/plain": [
       "Validation: |          | 0/? [00:00<?, ?it/s]"
      ]
     },
     "metadata": {},
     "output_type": "display_data"
    },
    {
     "name": "stderr",
     "output_type": "stream",
     "text": [
      "Metric val_loss improved by 0.061 >= min_delta = 0.001. New best score: 0.453\n",
      "Epoch 4, global step 55: 'val_loss' reached 0.45269 (best 0.45269), saving model to 'E:\\\\Projects\\\\Deep_Learning\\\\Car_Segmentation\\\\ModelCheckpoints\\\\Car_Segmentation_Unet_xception_CrossEntropyLoss_1\\\\epoch=4-step=55.ckpt' as top 1\n"
     ]
    },
    {
     "data": {
      "application/vnd.jupyter.widget-view+json": {
       "model_id": "7ac0c48d963948bb996ceed3bc13f535",
       "version_major": 2,
       "version_minor": 0
      },
      "text/plain": [
       "Validation: |          | 0/? [00:00<?, ?it/s]"
      ]
     },
     "metadata": {},
     "output_type": "display_data"
    },
    {
     "name": "stderr",
     "output_type": "stream",
     "text": [
      "Metric val_loss improved by 0.048 >= min_delta = 0.001. New best score: 0.405\n",
      "Epoch 5, global step 66: 'val_loss' reached 0.40466 (best 0.40466), saving model to 'E:\\\\Projects\\\\Deep_Learning\\\\Car_Segmentation\\\\ModelCheckpoints\\\\Car_Segmentation_Unet_xception_CrossEntropyLoss_1\\\\epoch=5-step=66.ckpt' as top 1\n"
     ]
    },
    {
     "data": {
      "application/vnd.jupyter.widget-view+json": {
       "model_id": "32f1142b439243a08572a598bd22cb5c",
       "version_major": 2,
       "version_minor": 0
      },
      "text/plain": [
       "Validation: |          | 0/? [00:00<?, ?it/s]"
      ]
     },
     "metadata": {},
     "output_type": "display_data"
    },
    {
     "name": "stderr",
     "output_type": "stream",
     "text": [
      "Epoch 6, global step 77: 'val_loss' was not in top 1\n"
     ]
    },
    {
     "data": {
      "application/vnd.jupyter.widget-view+json": {
       "model_id": "013e941a3db0471ebfc7ffad12a774f7",
       "version_major": 2,
       "version_minor": 0
      },
      "text/plain": [
       "Validation: |          | 0/? [00:00<?, ?it/s]"
      ]
     },
     "metadata": {},
     "output_type": "display_data"
    },
    {
     "name": "stderr",
     "output_type": "stream",
     "text": [
      "Metric val_loss improved by 0.004 >= min_delta = 0.001. New best score: 0.400\n",
      "Epoch 7, global step 88: 'val_loss' reached 0.40027 (best 0.40027), saving model to 'E:\\\\Projects\\\\Deep_Learning\\\\Car_Segmentation\\\\ModelCheckpoints\\\\Car_Segmentation_Unet_xception_CrossEntropyLoss_1\\\\epoch=7-step=88.ckpt' as top 1\n"
     ]
    },
    {
     "data": {
      "application/vnd.jupyter.widget-view+json": {
       "model_id": "18042aedbad841c7a84bcb7721fefca1",
       "version_major": 2,
       "version_minor": 0
      },
      "text/plain": [
       "Validation: |          | 0/? [00:00<?, ?it/s]"
      ]
     },
     "metadata": {},
     "output_type": "display_data"
    },
    {
     "name": "stderr",
     "output_type": "stream",
     "text": [
      "Metric val_loss improved by 0.029 >= min_delta = 0.001. New best score: 0.371\n",
      "Epoch 8, global step 99: 'val_loss' reached 0.37113 (best 0.37113), saving model to 'E:\\\\Projects\\\\Deep_Learning\\\\Car_Segmentation\\\\ModelCheckpoints\\\\Car_Segmentation_Unet_xception_CrossEntropyLoss_1\\\\epoch=8-step=99.ckpt' as top 1\n"
     ]
    },
    {
     "data": {
      "application/vnd.jupyter.widget-view+json": {
       "model_id": "68c2e37659654d7d911fefe2fc0019aa",
       "version_major": 2,
       "version_minor": 0
      },
      "text/plain": [
       "Validation: |          | 0/? [00:00<?, ?it/s]"
      ]
     },
     "metadata": {},
     "output_type": "display_data"
    },
    {
     "name": "stderr",
     "output_type": "stream",
     "text": [
      "Metric val_loss improved by 0.014 >= min_delta = 0.001. New best score: 0.357\n",
      "Epoch 9, global step 110: 'val_loss' reached 0.35702 (best 0.35702), saving model to 'E:\\\\Projects\\\\Deep_Learning\\\\Car_Segmentation\\\\ModelCheckpoints\\\\Car_Segmentation_Unet_xception_CrossEntropyLoss_1\\\\epoch=9-step=110.ckpt' as top 1\n"
     ]
    },
    {
     "data": {
      "application/vnd.jupyter.widget-view+json": {
       "model_id": "7b858bdd4b8942a28a70315263d5e570",
       "version_major": 2,
       "version_minor": 0
      },
      "text/plain": [
       "Validation: |          | 0/? [00:00<?, ?it/s]"
      ]
     },
     "metadata": {},
     "output_type": "display_data"
    },
    {
     "name": "stderr",
     "output_type": "stream",
     "text": [
      "Epoch 10, global step 121: 'val_loss' was not in top 1\n"
     ]
    },
    {
     "data": {
      "application/vnd.jupyter.widget-view+json": {
       "model_id": "49b4406c73234acd8e79cded6879de52",
       "version_major": 2,
       "version_minor": 0
      },
      "text/plain": [
       "Validation: |          | 0/? [00:00<?, ?it/s]"
      ]
     },
     "metadata": {},
     "output_type": "display_data"
    },
    {
     "name": "stderr",
     "output_type": "stream",
     "text": [
      "Metric val_loss improved by 0.004 >= min_delta = 0.001. New best score: 0.353\n",
      "Epoch 11, global step 132: 'val_loss' reached 0.35333 (best 0.35333), saving model to 'E:\\\\Projects\\\\Deep_Learning\\\\Car_Segmentation\\\\ModelCheckpoints\\\\Car_Segmentation_Unet_xception_CrossEntropyLoss_1\\\\epoch=11-step=132.ckpt' as top 1\n"
     ]
    },
    {
     "data": {
      "application/vnd.jupyter.widget-view+json": {
       "model_id": "c02c36f3dc464d499ec2b16325dffa38",
       "version_major": 2,
       "version_minor": 0
      },
      "text/plain": [
       "Validation: |          | 0/? [00:00<?, ?it/s]"
      ]
     },
     "metadata": {},
     "output_type": "display_data"
    },
    {
     "name": "stderr",
     "output_type": "stream",
     "text": [
      "Epoch 12, global step 143: 'val_loss' was not in top 1\n"
     ]
    },
    {
     "data": {
      "application/vnd.jupyter.widget-view+json": {
       "model_id": "4a6572984eee46a7886904f29d65ca90",
       "version_major": 2,
       "version_minor": 0
      },
      "text/plain": [
       "Validation: |          | 0/? [00:00<?, ?it/s]"
      ]
     },
     "metadata": {},
     "output_type": "display_data"
    },
    {
     "name": "stderr",
     "output_type": "stream",
     "text": [
      "Epoch 13, global step 154: 'val_loss' was not in top 1\n"
     ]
    },
    {
     "data": {
      "application/vnd.jupyter.widget-view+json": {
       "model_id": "61cd1f0f7731407e9537c1e67cdeb096",
       "version_major": 2,
       "version_minor": 0
      },
      "text/plain": [
       "Validation: |          | 0/? [00:00<?, ?it/s]"
      ]
     },
     "metadata": {},
     "output_type": "display_data"
    },
    {
     "name": "stderr",
     "output_type": "stream",
     "text": [
      "Metric val_loss improved by 0.013 >= min_delta = 0.001. New best score: 0.340\n",
      "Epoch 14, global step 165: 'val_loss' reached 0.33986 (best 0.33986), saving model to 'E:\\\\Projects\\\\Deep_Learning\\\\Car_Segmentation\\\\ModelCheckpoints\\\\Car_Segmentation_Unet_xception_CrossEntropyLoss_1\\\\epoch=14-step=165.ckpt' as top 1\n"
     ]
    },
    {
     "data": {
      "application/vnd.jupyter.widget-view+json": {
       "model_id": "def1ccb530a14f4a8080c7686cc11964",
       "version_major": 2,
       "version_minor": 0
      },
      "text/plain": [
       "Validation: |          | 0/? [00:00<?, ?it/s]"
      ]
     },
     "metadata": {},
     "output_type": "display_data"
    },
    {
     "name": "stderr",
     "output_type": "stream",
     "text": [
      "Metric val_loss improved by 0.010 >= min_delta = 0.001. New best score: 0.329\n",
      "Epoch 15, global step 176: 'val_loss' reached 0.32944 (best 0.32944), saving model to 'E:\\\\Projects\\\\Deep_Learning\\\\Car_Segmentation\\\\ModelCheckpoints\\\\Car_Segmentation_Unet_xception_CrossEntropyLoss_1\\\\epoch=15-step=176.ckpt' as top 1\n"
     ]
    },
    {
     "data": {
      "application/vnd.jupyter.widget-view+json": {
       "model_id": "7884d37d25c048f5a3c3f4703b4a94cd",
       "version_major": 2,
       "version_minor": 0
      },
      "text/plain": [
       "Validation: |          | 0/? [00:00<?, ?it/s]"
      ]
     },
     "metadata": {},
     "output_type": "display_data"
    },
    {
     "name": "stderr",
     "output_type": "stream",
     "text": [
      "Metric val_loss improved by 0.010 >= min_delta = 0.001. New best score: 0.319\n",
      "Epoch 16, global step 187: 'val_loss' reached 0.31904 (best 0.31904), saving model to 'E:\\\\Projects\\\\Deep_Learning\\\\Car_Segmentation\\\\ModelCheckpoints\\\\Car_Segmentation_Unet_xception_CrossEntropyLoss_1\\\\epoch=16-step=187.ckpt' as top 1\n"
     ]
    },
    {
     "data": {
      "application/vnd.jupyter.widget-view+json": {
       "model_id": "7ff6067e17244316b8cccafcd9e2f917",
       "version_major": 2,
       "version_minor": 0
      },
      "text/plain": [
       "Validation: |          | 0/? [00:00<?, ?it/s]"
      ]
     },
     "metadata": {},
     "output_type": "display_data"
    },
    {
     "name": "stderr",
     "output_type": "stream",
     "text": [
      "Metric val_loss improved by 0.030 >= min_delta = 0.001. New best score: 0.289\n",
      "Epoch 17, global step 198: 'val_loss' reached 0.28922 (best 0.28922), saving model to 'E:\\\\Projects\\\\Deep_Learning\\\\Car_Segmentation\\\\ModelCheckpoints\\\\Car_Segmentation_Unet_xception_CrossEntropyLoss_1\\\\epoch=17-step=198.ckpt' as top 1\n"
     ]
    },
    {
     "data": {
      "application/vnd.jupyter.widget-view+json": {
       "model_id": "d896759c9d074105b13bd7544ac09d86",
       "version_major": 2,
       "version_minor": 0
      },
      "text/plain": [
       "Validation: |          | 0/? [00:00<?, ?it/s]"
      ]
     },
     "metadata": {},
     "output_type": "display_data"
    },
    {
     "name": "stderr",
     "output_type": "stream",
     "text": [
      "Metric val_loss improved by 0.011 >= min_delta = 0.001. New best score: 0.278\n",
      "Epoch 18, global step 209: 'val_loss' reached 0.27805 (best 0.27805), saving model to 'E:\\\\Projects\\\\Deep_Learning\\\\Car_Segmentation\\\\ModelCheckpoints\\\\Car_Segmentation_Unet_xception_CrossEntropyLoss_1\\\\epoch=18-step=209.ckpt' as top 1\n"
     ]
    },
    {
     "data": {
      "application/vnd.jupyter.widget-view+json": {
       "model_id": "9701a04359dd400c98ceaecb072303a9",
       "version_major": 2,
       "version_minor": 0
      },
      "text/plain": [
       "Validation: |          | 0/? [00:00<?, ?it/s]"
      ]
     },
     "metadata": {},
     "output_type": "display_data"
    },
    {
     "name": "stderr",
     "output_type": "stream",
     "text": [
      "Metric val_loss improved by 0.037 >= min_delta = 0.001. New best score: 0.241\n",
      "Epoch 19, global step 220: 'val_loss' reached 0.24068 (best 0.24068), saving model to 'E:\\\\Projects\\\\Deep_Learning\\\\Car_Segmentation\\\\ModelCheckpoints\\\\Car_Segmentation_Unet_xception_CrossEntropyLoss_1\\\\epoch=19-step=220.ckpt' as top 1\n"
     ]
    },
    {
     "data": {
      "application/vnd.jupyter.widget-view+json": {
       "model_id": "335c9bf9c1cf459eba4dcd3c85f790db",
       "version_major": 2,
       "version_minor": 0
      },
      "text/plain": [
       "Validation: |          | 0/? [00:00<?, ?it/s]"
      ]
     },
     "metadata": {},
     "output_type": "display_data"
    },
    {
     "name": "stderr",
     "output_type": "stream",
     "text": [
      "Epoch 20, global step 231: 'val_loss' was not in top 1\n"
     ]
    },
    {
     "data": {
      "application/vnd.jupyter.widget-view+json": {
       "model_id": "7a90d21cd5e14111adf1a5f604ef4372",
       "version_major": 2,
       "version_minor": 0
      },
      "text/plain": [
       "Validation: |          | 0/? [00:00<?, ?it/s]"
      ]
     },
     "metadata": {},
     "output_type": "display_data"
    },
    {
     "name": "stderr",
     "output_type": "stream",
     "text": [
      "Epoch 21, global step 242: 'val_loss' was not in top 1\n"
     ]
    },
    {
     "data": {
      "application/vnd.jupyter.widget-view+json": {
       "model_id": "2d7dcf45088b4d7285437e9e044328c2",
       "version_major": 2,
       "version_minor": 0
      },
      "text/plain": [
       "Validation: |          | 0/? [00:00<?, ?it/s]"
      ]
     },
     "metadata": {},
     "output_type": "display_data"
    },
    {
     "name": "stderr",
     "output_type": "stream",
     "text": [
      "Epoch 22, global step 253: 'val_loss' reached 0.24049 (best 0.24049), saving model to 'E:\\\\Projects\\\\Deep_Learning\\\\Car_Segmentation\\\\ModelCheckpoints\\\\Car_Segmentation_Unet_xception_CrossEntropyLoss_1\\\\epoch=22-step=253.ckpt' as top 1\n"
     ]
    },
    {
     "data": {
      "application/vnd.jupyter.widget-view+json": {
       "model_id": "d1ecd425e14445a7a10268c5f3183a04",
       "version_major": 2,
       "version_minor": 0
      },
      "text/plain": [
       "Validation: |          | 0/? [00:00<?, ?it/s]"
      ]
     },
     "metadata": {},
     "output_type": "display_data"
    },
    {
     "name": "stderr",
     "output_type": "stream",
     "text": [
      "Epoch 23, global step 264: 'val_loss' was not in top 1\n"
     ]
    },
    {
     "data": {
      "application/vnd.jupyter.widget-view+json": {
       "model_id": "97c045b621ef4ffab67bc4c6bbc643b1",
       "version_major": 2,
       "version_minor": 0
      },
      "text/plain": [
       "Validation: |          | 0/? [00:00<?, ?it/s]"
      ]
     },
     "metadata": {},
     "output_type": "display_data"
    },
    {
     "name": "stderr",
     "output_type": "stream",
     "text": [
      "Metric val_loss improved by 0.035 >= min_delta = 0.001. New best score: 0.205\n",
      "Epoch 24, global step 275: 'val_loss' reached 0.20523 (best 0.20523), saving model to 'E:\\\\Projects\\\\Deep_Learning\\\\Car_Segmentation\\\\ModelCheckpoints\\\\Car_Segmentation_Unet_xception_CrossEntropyLoss_1\\\\epoch=24-step=275.ckpt' as top 1\n"
     ]
    },
    {
     "data": {
      "application/vnd.jupyter.widget-view+json": {
       "model_id": "ea62c0c3dc814fc2b943713f5b5f6979",
       "version_major": 2,
       "version_minor": 0
      },
      "text/plain": [
       "Validation: |          | 0/? [00:00<?, ?it/s]"
      ]
     },
     "metadata": {},
     "output_type": "display_data"
    },
    {
     "name": "stderr",
     "output_type": "stream",
     "text": [
      "Epoch 25, global step 286: 'val_loss' was not in top 1\n"
     ]
    },
    {
     "data": {
      "application/vnd.jupyter.widget-view+json": {
       "model_id": "0d3855f07d1a4e4c9a8f980717191270",
       "version_major": 2,
       "version_minor": 0
      },
      "text/plain": [
       "Validation: |          | 0/? [00:00<?, ?it/s]"
      ]
     },
     "metadata": {},
     "output_type": "display_data"
    },
    {
     "name": "stderr",
     "output_type": "stream",
     "text": [
      "Epoch 26, global step 297: 'val_loss' was not in top 1\n"
     ]
    },
    {
     "data": {
      "application/vnd.jupyter.widget-view+json": {
       "model_id": "38ab251c0cb14d9e9c8c216fc7006a7a",
       "version_major": 2,
       "version_minor": 0
      },
      "text/plain": [
       "Validation: |          | 0/? [00:00<?, ?it/s]"
      ]
     },
     "metadata": {},
     "output_type": "display_data"
    },
    {
     "name": "stderr",
     "output_type": "stream",
     "text": [
      "Epoch 27, global step 308: 'val_loss' was not in top 1\n"
     ]
    },
    {
     "data": {
      "application/vnd.jupyter.widget-view+json": {
       "model_id": "509dd27de64c4fb99d615a5a12b396fc",
       "version_major": 2,
       "version_minor": 0
      },
      "text/plain": [
       "Validation: |          | 0/? [00:00<?, ?it/s]"
      ]
     },
     "metadata": {},
     "output_type": "display_data"
    },
    {
     "name": "stderr",
     "output_type": "stream",
     "text": [
      "Epoch 28, global step 319: 'val_loss' was not in top 1\n"
     ]
    },
    {
     "data": {
      "application/vnd.jupyter.widget-view+json": {
       "model_id": "10c620c391434945b4ff12e21da54791",
       "version_major": 2,
       "version_minor": 0
      },
      "text/plain": [
       "Validation: |          | 0/? [00:00<?, ?it/s]"
      ]
     },
     "metadata": {},
     "output_type": "display_data"
    },
    {
     "name": "stderr",
     "output_type": "stream",
     "text": [
      "Metric val_loss improved by 0.011 >= min_delta = 0.001. New best score: 0.194\n",
      "Epoch 29, global step 330: 'val_loss' reached 0.19398 (best 0.19398), saving model to 'E:\\\\Projects\\\\Deep_Learning\\\\Car_Segmentation\\\\ModelCheckpoints\\\\Car_Segmentation_Unet_xception_CrossEntropyLoss_1\\\\epoch=29-step=330.ckpt' as top 1\n"
     ]
    },
    {
     "data": {
      "application/vnd.jupyter.widget-view+json": {
       "model_id": "88a9bfa258ea46d09495d9da0c8e9ec9",
       "version_major": 2,
       "version_minor": 0
      },
      "text/plain": [
       "Validation: |          | 0/? [00:00<?, ?it/s]"
      ]
     },
     "metadata": {},
     "output_type": "display_data"
    },
    {
     "name": "stderr",
     "output_type": "stream",
     "text": [
      "Metric val_loss improved by 0.004 >= min_delta = 0.001. New best score: 0.190\n",
      "Epoch 30, global step 341: 'val_loss' reached 0.18985 (best 0.18985), saving model to 'E:\\\\Projects\\\\Deep_Learning\\\\Car_Segmentation\\\\ModelCheckpoints\\\\Car_Segmentation_Unet_xception_CrossEntropyLoss_1\\\\epoch=30-step=341.ckpt' as top 1\n"
     ]
    },
    {
     "data": {
      "application/vnd.jupyter.widget-view+json": {
       "model_id": "bc65b78f50824b7898e7526250fa4d41",
       "version_major": 2,
       "version_minor": 0
      },
      "text/plain": [
       "Validation: |          | 0/? [00:00<?, ?it/s]"
      ]
     },
     "metadata": {},
     "output_type": "display_data"
    },
    {
     "name": "stderr",
     "output_type": "stream",
     "text": [
      "Epoch 31, global step 352: 'val_loss' was not in top 1\n"
     ]
    },
    {
     "data": {
      "application/vnd.jupyter.widget-view+json": {
       "model_id": "bc232c4f753349d9bb8b7f4f26ccbe48",
       "version_major": 2,
       "version_minor": 0
      },
      "text/plain": [
       "Validation: |          | 0/? [00:00<?, ?it/s]"
      ]
     },
     "metadata": {},
     "output_type": "display_data"
    },
    {
     "name": "stderr",
     "output_type": "stream",
     "text": [
      "Metric val_loss improved by 0.001 >= min_delta = 0.001. New best score: 0.189\n",
      "Epoch 32, global step 363: 'val_loss' reached 0.18857 (best 0.18857), saving model to 'E:\\\\Projects\\\\Deep_Learning\\\\Car_Segmentation\\\\ModelCheckpoints\\\\Car_Segmentation_Unet_xception_CrossEntropyLoss_1\\\\epoch=32-step=363.ckpt' as top 1\n"
     ]
    },
    {
     "data": {
      "application/vnd.jupyter.widget-view+json": {
       "model_id": "666d96a617ef4dba9e5e127c65a52ee6",
       "version_major": 2,
       "version_minor": 0
      },
      "text/plain": [
       "Validation: |          | 0/? [00:00<?, ?it/s]"
      ]
     },
     "metadata": {},
     "output_type": "display_data"
    },
    {
     "name": "stderr",
     "output_type": "stream",
     "text": [
      "Epoch 33, global step 374: 'val_loss' was not in top 1\n"
     ]
    },
    {
     "data": {
      "application/vnd.jupyter.widget-view+json": {
       "model_id": "0fe02c9bbf634f6b9bbb371456ae0148",
       "version_major": 2,
       "version_minor": 0
      },
      "text/plain": [
       "Validation: |          | 0/? [00:00<?, ?it/s]"
      ]
     },
     "metadata": {},
     "output_type": "display_data"
    },
    {
     "name": "stderr",
     "output_type": "stream",
     "text": [
      "Epoch 34, global step 385: 'val_loss' was not in top 1\n"
     ]
    },
    {
     "data": {
      "application/vnd.jupyter.widget-view+json": {
       "model_id": "edc04f93d70e4a8fbd01771a86e0476e",
       "version_major": 2,
       "version_minor": 0
      },
      "text/plain": [
       "Validation: |          | 0/? [00:00<?, ?it/s]"
      ]
     },
     "metadata": {},
     "output_type": "display_data"
    },
    {
     "name": "stderr",
     "output_type": "stream",
     "text": [
      "Metric val_loss improved by 0.010 >= min_delta = 0.001. New best score: 0.178\n",
      "Epoch 35, global step 396: 'val_loss' reached 0.17821 (best 0.17821), saving model to 'E:\\\\Projects\\\\Deep_Learning\\\\Car_Segmentation\\\\ModelCheckpoints\\\\Car_Segmentation_Unet_xception_CrossEntropyLoss_1\\\\epoch=35-step=396.ckpt' as top 1\n"
     ]
    },
    {
     "data": {
      "application/vnd.jupyter.widget-view+json": {
       "model_id": "e308a8cdcb404c219730d4dc569d2328",
       "version_major": 2,
       "version_minor": 0
      },
      "text/plain": [
       "Validation: |          | 0/? [00:00<?, ?it/s]"
      ]
     },
     "metadata": {},
     "output_type": "display_data"
    },
    {
     "name": "stderr",
     "output_type": "stream",
     "text": [
      "Epoch 36, global step 407: 'val_loss' was not in top 1\n"
     ]
    },
    {
     "data": {
      "application/vnd.jupyter.widget-view+json": {
       "model_id": "914528156e3f48ca903416c9e7b63674",
       "version_major": 2,
       "version_minor": 0
      },
      "text/plain": [
       "Validation: |          | 0/? [00:00<?, ?it/s]"
      ]
     },
     "metadata": {},
     "output_type": "display_data"
    },
    {
     "name": "stderr",
     "output_type": "stream",
     "text": [
      "Epoch 37, global step 418: 'val_loss' reached 0.17731 (best 0.17731), saving model to 'E:\\\\Projects\\\\Deep_Learning\\\\Car_Segmentation\\\\ModelCheckpoints\\\\Car_Segmentation_Unet_xception_CrossEntropyLoss_1\\\\epoch=37-step=418.ckpt' as top 1\n"
     ]
    },
    {
     "data": {
      "application/vnd.jupyter.widget-view+json": {
       "model_id": "2463e30ec4b64501b7016596ecb4ea3a",
       "version_major": 2,
       "version_minor": 0
      },
      "text/plain": [
       "Validation: |          | 0/? [00:00<?, ?it/s]"
      ]
     },
     "metadata": {},
     "output_type": "display_data"
    },
    {
     "name": "stderr",
     "output_type": "stream",
     "text": [
      "Epoch 38, global step 429: 'val_loss' was not in top 1\n"
     ]
    },
    {
     "data": {
      "application/vnd.jupyter.widget-view+json": {
       "model_id": "10c91794504e43b5b4ccd6bd40c3692a",
       "version_major": 2,
       "version_minor": 0
      },
      "text/plain": [
       "Validation: |          | 0/? [00:00<?, ?it/s]"
      ]
     },
     "metadata": {},
     "output_type": "display_data"
    },
    {
     "name": "stderr",
     "output_type": "stream",
     "text": [
      "Metric val_loss improved by 0.001 >= min_delta = 0.001. New best score: 0.177\n",
      "Epoch 39, global step 440: 'val_loss' reached 0.17716 (best 0.17716), saving model to 'E:\\\\Projects\\\\Deep_Learning\\\\Car_Segmentation\\\\ModelCheckpoints\\\\Car_Segmentation_Unet_xception_CrossEntropyLoss_1\\\\epoch=39-step=440.ckpt' as top 1\n"
     ]
    },
    {
     "data": {
      "application/vnd.jupyter.widget-view+json": {
       "model_id": "310b2c6531964f7d8de89efe2b2c8a86",
       "version_major": 2,
       "version_minor": 0
      },
      "text/plain": [
       "Validation: |          | 0/? [00:00<?, ?it/s]"
      ]
     },
     "metadata": {},
     "output_type": "display_data"
    },
    {
     "name": "stderr",
     "output_type": "stream",
     "text": [
      "Epoch 40, global step 451: 'val_loss' was not in top 1\n"
     ]
    },
    {
     "data": {
      "application/vnd.jupyter.widget-view+json": {
       "model_id": "e478556ae4554dd2b1fd1ed147700033",
       "version_major": 2,
       "version_minor": 0
      },
      "text/plain": [
       "Validation: |          | 0/? [00:00<?, ?it/s]"
      ]
     },
     "metadata": {},
     "output_type": "display_data"
    },
    {
     "name": "stderr",
     "output_type": "stream",
     "text": [
      "Epoch 41, global step 462: 'val_loss' was not in top 1\n"
     ]
    },
    {
     "data": {
      "application/vnd.jupyter.widget-view+json": {
       "model_id": "e9326ce5e23a406d9375cd3d451d3aa4",
       "version_major": 2,
       "version_minor": 0
      },
      "text/plain": [
       "Validation: |          | 0/? [00:00<?, ?it/s]"
      ]
     },
     "metadata": {},
     "output_type": "display_data"
    },
    {
     "name": "stderr",
     "output_type": "stream",
     "text": [
      "Epoch 42, global step 473: 'val_loss' was not in top 1\n"
     ]
    },
    {
     "data": {
      "application/vnd.jupyter.widget-view+json": {
       "model_id": "c8aabf746b6440609455e161ad21782e",
       "version_major": 2,
       "version_minor": 0
      },
      "text/plain": [
       "Validation: |          | 0/? [00:00<?, ?it/s]"
      ]
     },
     "metadata": {},
     "output_type": "display_data"
    },
    {
     "name": "stderr",
     "output_type": "stream",
     "text": [
      "Epoch 43, global step 484: 'val_loss' was not in top 1\n"
     ]
    },
    {
     "data": {
      "application/vnd.jupyter.widget-view+json": {
       "model_id": "2fae35d9cf0740ba8b1f9f67a6843a53",
       "version_major": 2,
       "version_minor": 0
      },
      "text/plain": [
       "Validation: |          | 0/? [00:00<?, ?it/s]"
      ]
     },
     "metadata": {},
     "output_type": "display_data"
    },
    {
     "name": "stderr",
     "output_type": "stream",
     "text": [
      "Monitored metric val_loss did not improve in the last 5 records. Best score: 0.177. Signaling Trainer to stop.\n",
      "Epoch 44, global step 495: 'val_loss' reached 0.17661 (best 0.17661), saving model to 'E:\\\\Projects\\\\Deep_Learning\\\\Car_Segmentation\\\\ModelCheckpoints\\\\Car_Segmentation_Unet_xception_CrossEntropyLoss_1\\\\epoch=44-step=495.ckpt' as top 1\n"
     ]
    },
    {
     "name": "stdout",
     "output_type": "stream",
     "text": [
      "\n",
      "Training finished\n",
      "Found latest checkpoint at:\n",
      "E:/Projects/Deep_Learning/Car_Segmentation//ModelCheckpoints/Car_Segmentation_Unet_xception_CrossEntropyLoss_1\\epoch=44-step=495.ckpt\n",
      "[{'degrees': 360, 'align_corners': True, 'p': 0.6, 'name': 'RandomAffine'}, {'p': 0.6, 'name': 'RandomHorizontalFlip'}, {'p': 0.6, 'name': 'RandomVerticalFlip'}, {'degrees': 360, 'p': 0.6, 'name': 'RandomRotation'}]\n",
      "Model Weights saved in E:/Projects/Deep_Learning/Car_Segmentation//ModelCheckpoints/Car_Segmentation_Unet_xception_CrossEntropyLoss_1/\n",
      "TorchScript Trace Model saved in E:/Projects/Deep_Learning/Car_Segmentation//ModelCheckpoints/Car_Segmentation_Unet_xception_CrossEntropyLoss_1/\n"
     ]
    }
   ],
   "source": [
    "if __name__ == \"__main__\":\n",
    "    main()"
   ]
  },
  {
   "cell_type": "code",
   "execution_count": null,
   "metadata": {},
   "outputs": [],
   "source": []
  }
 ],
 "metadata": {
  "kernelspec": {
   "display_name": "Python 3",
   "language": "python",
   "name": "python3"
  },
  "language_info": {
   "codemirror_mode": {
    "name": "ipython",
    "version": 3
   },
   "file_extension": ".py",
   "mimetype": "text/x-python",
   "name": "python",
   "nbconvert_exporter": "python",
   "pygments_lexer": "ipython3",
   "version": "3.12.3"
  }
 },
 "nbformat": 4,
 "nbformat_minor": 2
}
